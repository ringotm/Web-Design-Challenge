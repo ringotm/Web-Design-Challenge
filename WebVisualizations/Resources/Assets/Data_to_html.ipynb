{
 "metadata": {
  "language_info": {
   "codemirror_mode": {
    "name": "ipython",
    "version": 3
   },
   "file_extension": ".py",
   "mimetype": "text/x-python",
   "name": "python",
   "nbconvert_exporter": "python",
   "pygments_lexer": "ipython3",
   "version": "3.7.7-final"
  },
  "orig_nbformat": 2,
  "kernelspec": {
   "name": "python37464bitbaseconda68e905bc638043beabf2e502caa344b2",
   "display_name": "Python 3.7.4 64-bit ('base': conda)"
  }
 },
 "nbformat": 4,
 "nbformat_minor": 2,
 "cells": [
  {
   "cell_type": "code",
   "execution_count": 1,
   "metadata": {},
   "outputs": [],
   "source": [
    "import pandas as pd "
   ]
  },
  {
   "cell_type": "code",
   "execution_count": 2,
   "metadata": {},
   "outputs": [
    {
     "output_type": "execute_result",
     "data": {
      "text/plain": "   Unnamed: 0     City  Cloudiness Country        Date  Humidity    Lat  \\\n0           0    Natal          40      BR  1592242354        62  -5.79   \n1           1     Hilo           1      US  1592242585        83  19.73   \n2           2    Bluff          32      NZ  1592242586        90 -46.60   \n3           3  Salalah          40      OM  1592242343        94  17.02   \n4           4  Mataura           5      NZ  1592242589        90 -46.19   \n\n      Lng  Max Temp  Wind Speed  \n0  -35.21     87.80       10.29  \n1 -155.09     72.00        3.36  \n2  168.33     49.01        9.84  \n3   54.09     84.20        6.93  \n4  168.86     43.27        3.89  ",
      "text/html": "<div>\n<style scoped>\n    .dataframe tbody tr th:only-of-type {\n        vertical-align: middle;\n    }\n\n    .dataframe tbody tr th {\n        vertical-align: top;\n    }\n\n    .dataframe thead th {\n        text-align: right;\n    }\n</style>\n<table border=\"1\" class=\"dataframe\">\n  <thead>\n    <tr style=\"text-align: right;\">\n      <th></th>\n      <th>Unnamed: 0</th>\n      <th>City</th>\n      <th>Cloudiness</th>\n      <th>Country</th>\n      <th>Date</th>\n      <th>Humidity</th>\n      <th>Lat</th>\n      <th>Lng</th>\n      <th>Max Temp</th>\n      <th>Wind Speed</th>\n    </tr>\n  </thead>\n  <tbody>\n    <tr>\n      <th>0</th>\n      <td>0</td>\n      <td>Natal</td>\n      <td>40</td>\n      <td>BR</td>\n      <td>1592242354</td>\n      <td>62</td>\n      <td>-5.79</td>\n      <td>-35.21</td>\n      <td>87.80</td>\n      <td>10.29</td>\n    </tr>\n    <tr>\n      <th>1</th>\n      <td>1</td>\n      <td>Hilo</td>\n      <td>1</td>\n      <td>US</td>\n      <td>1592242585</td>\n      <td>83</td>\n      <td>19.73</td>\n      <td>-155.09</td>\n      <td>72.00</td>\n      <td>3.36</td>\n    </tr>\n    <tr>\n      <th>2</th>\n      <td>2</td>\n      <td>Bluff</td>\n      <td>32</td>\n      <td>NZ</td>\n      <td>1592242586</td>\n      <td>90</td>\n      <td>-46.60</td>\n      <td>168.33</td>\n      <td>49.01</td>\n      <td>9.84</td>\n    </tr>\n    <tr>\n      <th>3</th>\n      <td>3</td>\n      <td>Salalah</td>\n      <td>40</td>\n      <td>OM</td>\n      <td>1592242343</td>\n      <td>94</td>\n      <td>17.02</td>\n      <td>54.09</td>\n      <td>84.20</td>\n      <td>6.93</td>\n    </tr>\n    <tr>\n      <th>4</th>\n      <td>4</td>\n      <td>Mataura</td>\n      <td>5</td>\n      <td>NZ</td>\n      <td>1592242589</td>\n      <td>90</td>\n      <td>-46.19</td>\n      <td>168.86</td>\n      <td>43.27</td>\n      <td>3.89</td>\n    </tr>\n  </tbody>\n</table>\n</div>"
     },
     "metadata": {},
     "execution_count": 2
    }
   ],
   "source": [
    "df = pd.read_csv('cities.csv')\n",
    "df.head()"
   ]
  },
  {
   "cell_type": "code",
   "execution_count": 3,
   "metadata": {},
   "outputs": [
    {
     "output_type": "execute_result",
     "data": {
      "text/plain": "(631, 10)"
     },
     "metadata": {},
     "execution_count": 3
    }
   ],
   "source": [
    "df.shape"
   ]
  },
  {
   "cell_type": "code",
   "execution_count": 4,
   "metadata": {},
   "outputs": [],
   "source": [
    "df = df.rename(columns={'Unnamed: 0': 'City_ID'})"
   ]
  },
  {
   "cell_type": "code",
   "execution_count": 5,
   "metadata": {},
   "outputs": [
    {
     "output_type": "execute_result",
     "data": {
      "text/plain": "   City_ID     City  Cloudiness Country        Date  Humidity    Lat     Lng  \\\n0        0    Natal          40      BR  1592242354        62  -5.79  -35.21   \n1        1     Hilo           1      US  1592242585        83  19.73 -155.09   \n2        2    Bluff          32      NZ  1592242586        90 -46.60  168.33   \n3        3  Salalah          40      OM  1592242343        94  17.02   54.09   \n4        4  Mataura           5      NZ  1592242589        90 -46.19  168.86   \n\n   Max Temp  Wind Speed  \n0     87.80       10.29  \n1     72.00        3.36  \n2     49.01        9.84  \n3     84.20        6.93  \n4     43.27        3.89  ",
      "text/html": "<div>\n<style scoped>\n    .dataframe tbody tr th:only-of-type {\n        vertical-align: middle;\n    }\n\n    .dataframe tbody tr th {\n        vertical-align: top;\n    }\n\n    .dataframe thead th {\n        text-align: right;\n    }\n</style>\n<table border=\"1\" class=\"dataframe\">\n  <thead>\n    <tr style=\"text-align: right;\">\n      <th></th>\n      <th>City_ID</th>\n      <th>City</th>\n      <th>Cloudiness</th>\n      <th>Country</th>\n      <th>Date</th>\n      <th>Humidity</th>\n      <th>Lat</th>\n      <th>Lng</th>\n      <th>Max Temp</th>\n      <th>Wind Speed</th>\n    </tr>\n  </thead>\n  <tbody>\n    <tr>\n      <th>0</th>\n      <td>0</td>\n      <td>Natal</td>\n      <td>40</td>\n      <td>BR</td>\n      <td>1592242354</td>\n      <td>62</td>\n      <td>-5.79</td>\n      <td>-35.21</td>\n      <td>87.80</td>\n      <td>10.29</td>\n    </tr>\n    <tr>\n      <th>1</th>\n      <td>1</td>\n      <td>Hilo</td>\n      <td>1</td>\n      <td>US</td>\n      <td>1592242585</td>\n      <td>83</td>\n      <td>19.73</td>\n      <td>-155.09</td>\n      <td>72.00</td>\n      <td>3.36</td>\n    </tr>\n    <tr>\n      <th>2</th>\n      <td>2</td>\n      <td>Bluff</td>\n      <td>32</td>\n      <td>NZ</td>\n      <td>1592242586</td>\n      <td>90</td>\n      <td>-46.60</td>\n      <td>168.33</td>\n      <td>49.01</td>\n      <td>9.84</td>\n    </tr>\n    <tr>\n      <th>3</th>\n      <td>3</td>\n      <td>Salalah</td>\n      <td>40</td>\n      <td>OM</td>\n      <td>1592242343</td>\n      <td>94</td>\n      <td>17.02</td>\n      <td>54.09</td>\n      <td>84.20</td>\n      <td>6.93</td>\n    </tr>\n    <tr>\n      <th>4</th>\n      <td>4</td>\n      <td>Mataura</td>\n      <td>5</td>\n      <td>NZ</td>\n      <td>1592242589</td>\n      <td>90</td>\n      <td>-46.19</td>\n      <td>168.86</td>\n      <td>43.27</td>\n      <td>3.89</td>\n    </tr>\n  </tbody>\n</table>\n</div>"
     },
     "metadata": {},
     "execution_count": 5
    }
   ],
   "source": [
    "df.head()"
   ]
  },
  {
   "cell_type": "code",
   "execution_count": 12,
   "metadata": {
    "tags": []
   },
   "outputs": [],
   "source": [
    "html_df = df.to_html('data_table.html', index=False)\n",
    "#print(html_df)"
   ]
  },
  {
   "cell_type": "code",
   "execution_count": 11,
   "metadata": {},
   "outputs": [
    {
     "output_type": "error",
     "ename": "UnicodeEncodeError",
     "evalue": "'charmap' codec can't encode character '\\u0101' in position 9394: character maps to <undefined>",
     "traceback": [
      "\u001b[1;31m---------------------------------------------------------------------------\u001b[0m",
      "\u001b[1;31mUnicodeEncodeError\u001b[0m                        Traceback (most recent call last)",
      "\u001b[1;32m<ipython-input-11-5d73f6b38ed0>\u001b[0m in \u001b[0;36m<module>\u001b[1;34m\u001b[0m\n\u001b[0;32m      1\u001b[0m \u001b[0mtext_file\u001b[0m \u001b[1;33m=\u001b[0m \u001b[0mopen\u001b[0m\u001b[1;33m(\u001b[0m\u001b[1;34m'data_table.html'\u001b[0m\u001b[1;33m,\u001b[0m \u001b[1;34m'w'\u001b[0m\u001b[1;33m)\u001b[0m\u001b[1;33m\u001b[0m\u001b[1;33m\u001b[0m\u001b[0m\n\u001b[1;32m----> 2\u001b[1;33m \u001b[0mtext_file\u001b[0m\u001b[1;33m.\u001b[0m\u001b[0mwrite\u001b[0m\u001b[1;33m(\u001b[0m\u001b[0mhtml_df\u001b[0m\u001b[1;33m)\u001b[0m\u001b[1;33m\u001b[0m\u001b[1;33m\u001b[0m\u001b[0m\n\u001b[0m\u001b[0;32m      3\u001b[0m \u001b[0mtext_file\u001b[0m\u001b[1;33m.\u001b[0m\u001b[0mclose\u001b[0m\u001b[1;33m(\u001b[0m\u001b[1;33m)\u001b[0m\u001b[1;33m\u001b[0m\u001b[1;33m\u001b[0m\u001b[0m\n",
      "\u001b[1;32m~\\anaconda3\\lib\\encodings\\cp1252.py\u001b[0m in \u001b[0;36mencode\u001b[1;34m(self, input, final)\u001b[0m\n\u001b[0;32m     17\u001b[0m \u001b[1;32mclass\u001b[0m \u001b[0mIncrementalEncoder\u001b[0m\u001b[1;33m(\u001b[0m\u001b[0mcodecs\u001b[0m\u001b[1;33m.\u001b[0m\u001b[0mIncrementalEncoder\u001b[0m\u001b[1;33m)\u001b[0m\u001b[1;33m:\u001b[0m\u001b[1;33m\u001b[0m\u001b[1;33m\u001b[0m\u001b[0m\n\u001b[0;32m     18\u001b[0m     \u001b[1;32mdef\u001b[0m \u001b[0mencode\u001b[0m\u001b[1;33m(\u001b[0m\u001b[0mself\u001b[0m\u001b[1;33m,\u001b[0m \u001b[0minput\u001b[0m\u001b[1;33m,\u001b[0m \u001b[0mfinal\u001b[0m\u001b[1;33m=\u001b[0m\u001b[1;32mFalse\u001b[0m\u001b[1;33m)\u001b[0m\u001b[1;33m:\u001b[0m\u001b[1;33m\u001b[0m\u001b[1;33m\u001b[0m\u001b[0m\n\u001b[1;32m---> 19\u001b[1;33m         \u001b[1;32mreturn\u001b[0m \u001b[0mcodecs\u001b[0m\u001b[1;33m.\u001b[0m\u001b[0mcharmap_encode\u001b[0m\u001b[1;33m(\u001b[0m\u001b[0minput\u001b[0m\u001b[1;33m,\u001b[0m\u001b[0mself\u001b[0m\u001b[1;33m.\u001b[0m\u001b[0merrors\u001b[0m\u001b[1;33m,\u001b[0m\u001b[0mencoding_table\u001b[0m\u001b[1;33m)\u001b[0m\u001b[1;33m[\u001b[0m\u001b[1;36m0\u001b[0m\u001b[1;33m]\u001b[0m\u001b[1;33m\u001b[0m\u001b[1;33m\u001b[0m\u001b[0m\n\u001b[0m\u001b[0;32m     20\u001b[0m \u001b[1;33m\u001b[0m\u001b[0m\n\u001b[0;32m     21\u001b[0m \u001b[1;32mclass\u001b[0m \u001b[0mIncrementalDecoder\u001b[0m\u001b[1;33m(\u001b[0m\u001b[0mcodecs\u001b[0m\u001b[1;33m.\u001b[0m\u001b[0mIncrementalDecoder\u001b[0m\u001b[1;33m)\u001b[0m\u001b[1;33m:\u001b[0m\u001b[1;33m\u001b[0m\u001b[1;33m\u001b[0m\u001b[0m\n",
      "\u001b[1;31mUnicodeEncodeError\u001b[0m: 'charmap' codec can't encode character '\\u0101' in position 9394: character maps to <undefined>"
     ]
    }
   ],
   "source": [
    "text_file = open('data_table.html', 'w')\n",
    "text_file.write(html_df)\n",
    "text_file.close()"
   ]
  },
  {
   "cell_type": "code",
   "execution_count": null,
   "metadata": {},
   "outputs": [],
   "source": []
  }
 ]
}